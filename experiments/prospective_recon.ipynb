{
 "cells": [
  {
   "cell_type": "code",
   "execution_count": 16,
   "metadata": {},
   "outputs": [],
   "source": [
    "import scipy.io as sio\n",
    "\n",
    "# Dataset testing\n",
    "\n",
    "import h5py\n",
    "import math\n",
    "import matplotlib.pyplot as plt\n",
    "import numpy as np\n",
    "import scipy.fft as fft\n",
    "import sigpy\n",
    "import pynufft\n",
    "import skimage\n",
    "import os\n",
    "import multiprocessing as mp\n",
    "from multiprocessing import Pool\n",
    "from PIL import Image\n",
    "import tqdm\n",
    "import glob\n",
    "\n",
    "from training.dataset import *\n",
    "from dnnlib.util import *\n",
    "from torch_utils import distributed as dist\n",
    "from torch_utils import misc\n",
    "import training.trajectory as trajectory\n",
    "import training.visualize as visualize\n",
    "import generate_conditional\n",
    "\n",
    "device = torch.device('cuda')\n",
    "\n",
    "import torchvision\n",
    "\n",
    "import time\n",
    "\n",
    "import spiral_trajectory_optimization"
   ]
  },
  {
   "cell_type": "code",
   "execution_count": 17,
   "metadata": {},
   "outputs": [],
   "source": [
    "a = sio.loadmat('prospective/spiral_phantom_dat.mat')['a']"
   ]
  },
  {
   "cell_type": "code",
   "execution_count": 18,
   "metadata": {},
   "outputs": [
    {
     "data": {
      "text/plain": [
       "(942, 32, 4, 12)"
      ]
     },
     "execution_count": 18,
     "metadata": {},
     "output_type": "execute_result"
    }
   ],
   "source": [
    "a.shape"
   ]
  },
  {
   "cell_type": "code",
   "execution_count": 19,
   "metadata": {},
   "outputs": [],
   "source": [
    "kx = sio.loadmat('prospective/spiral_trajectory.mat')['kx']\n",
    "ky = sio.loadmat('prospective/spiral_trajectory.mat')['ky']"
   ]
  },
  {
   "cell_type": "code",
   "execution_count": 20,
   "metadata": {},
   "outputs": [
    {
     "data": {
      "text/plain": [
       "(1, 940)"
      ]
     },
     "execution_count": 20,
     "metadata": {},
     "output_type": "execute_result"
    }
   ],
   "source": [
    "kx.shape"
   ]
  },
  {
   "cell_type": "code",
   "execution_count": 21,
   "metadata": {},
   "outputs": [
    {
     "data": {
      "text/plain": [
       "(1, 940)"
      ]
     },
     "execution_count": 21,
     "metadata": {},
     "output_type": "execute_result"
    }
   ],
   "source": [
    "ky.shape"
   ]
  },
  {
   "cell_type": "code",
   "execution_count": 22,
   "metadata": {},
   "outputs": [
    {
     "data": {
      "text/plain": [
       "(940, 2)"
      ]
     },
     "execution_count": 22,
     "metadata": {},
     "output_type": "execute_result"
    }
   ],
   "source": [
    "y = np.concatenate((kx,ky), axis=0).T\n",
    "y.shape"
   ]
  },
  {
   "cell_type": "code",
   "execution_count": null,
   "metadata": {},
   "outputs": [],
   "source": [
    "image = trajectory.float_to_complex(parcel[0])\n",
    "\n",
    "y = np.array(parcel[3]['y'])[0]\n",
    "\n",
    "points = np.array(parcel[3]['points'])\n",
    "\n",
    "x = np.zeros((256,256))\n",
    "\n",
    " # Generate a fake image to use as a x_t image\n",
    "blur = torchvision.transforms.GaussianBlur(kernel_size=75, sigma=2)\n",
    "x_next = np.array(blur(torch.Tensor(image)), dtype = np.complex64)\n",
    "nufftobj = trajectory.prealloc_nufft(x_next[0], points[0])\n",
    "\n",
    "for i in tqdm.tqdm(range(10)):\n",
    "\n",
    "    x_cur = x_next\n",
    "    y_cur = trajectory.forward_nufft(x_cur[0], nufftobj)\n",
    "\n",
    "    y_cur.shape\n",
    "    y_grad = y-y_cur\n",
    "\n",
    "    x_grad = trajectory.inverse_nufft(y_grad, nufftobj)\n",
    "\n",
    "    x_next = x_cur + x_grad * 0.1\n",
    "\n",
    "image_pil = visualize.tensor_to_image(torch.tensor(trajectory.root_summed_squares(image[0])).unsqueeze(0).unsqueeze(0), normalize=True)\n",
    "x_grad_pil = visualize.tensor_to_image(torch.tensor(trajectory.root_summed_squares(x_grad)).unsqueeze(0).unsqueeze(0), normalize=True)\n",
    "x_grad_next_pil = visualize.tensor_to_image(torch.tensor(trajectory.root_summed_squares(x_next)).unsqueeze(0), normalize=True)\n",
    "residuals_pil = visualize.tensor_to_image(torch.tensor(trajectory.root_summed_squares((x_next-fake)**2)).unsqueeze(0), normalize=True)\n",
    "\n",
    "visualize.image_array((image_pil, blur_pil, x_grad_next_pil, residuals_pil), columns=4)\n"
   ]
  }
 ],
 "metadata": {
  "kernelspec": {
   "display_name": "Python 3 (ipykernel)",
   "language": "python",
   "name": "python3"
  },
  "language_info": {
   "codemirror_mode": {
    "name": "ipython",
    "version": 3
   },
   "file_extension": ".py",
   "mimetype": "text/x-python",
   "name": "python",
   "nbconvert_exporter": "python",
   "pygments_lexer": "ipython3",
   "version": "3.9.15"
  }
 },
 "nbformat": 4,
 "nbformat_minor": 2
}
